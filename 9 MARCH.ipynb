{
 "cells": [
  {
   "cell_type": "markdown",
   "id": "4728eb9d-7b32-4a79-955d-ff4518f1925c",
   "metadata": {},
   "source": [
    "# ASSIGNMENT STATISTICS 4"
   ]
  },
  {
   "cell_type": "code",
   "execution_count": 3,
   "id": "ed1934a9-6869-4aa8-ada2-a856010a98fc",
   "metadata": {},
   "outputs": [],
   "source": [
    "Q1: What are the Probability Mass Function (PMF) and Probability Density Function (PDF)? Explain with\n",
    "an example."
   ]
  },
  {
   "cell_type": "markdown",
   "id": "b98163a2-76d0-473d-9121-d209aba6aa7e",
   "metadata": {},
   "source": [
    "ANSWER==\n",
    "The Probability Mass Function (PMF) is also called a probability function or frequency function which characterizes the distribution of a discrete random variable.\n",
    "The most basic difference between probability mass function and probability density function is that probability mass function concentrates on a certain point for example, if we have to find a probability of getting a number 2. Then our whole concentration is on 2. Hence we use pmf however in pdf our concentration our on the interval it is lying."
   ]
  },
  {
   "cell_type": "markdown",
   "id": "038d49ff-2286-49dc-b3f8-24cacab02070",
   "metadata": {},
   "source": [
    "Q2: What is Cumulative Density Function (CDF)? Explain with an example. Why CDF is used?"
   ]
  },
  {
   "cell_type": "markdown",
   "id": "7cdab4c2-3e2d-4ede-93ec-bda4a9626dc7",
   "metadata": {},
   "source": [
    "ANSWER==\n",
    "he CDF is a complementary concept to the PDF and provides a cumulative perspective of the probabilities associated with a random variable. Unlike the smooth curve of the PDF, the CDF is a step function that jumps at specific values. It displays the likelihood that a particular number will be less than or equal to the random variable.\n",
    "Consider a simple example for CDF which is given by rolling a fair six-sided die, where X is the random variable\n",
    "\n",
    "We know that the probability of getting an outcome by rolling a six-sided die is given as:\n",
    "\n",
    "Probability of getting 1 = P(X≤ 1 ) = 1 / 6\n",
    "\n",
    "Probability of getting 2 = P(X≤ 2 ) = 2 / 6\n",
    "\n",
    "Probability of getting 3 = P(X≤ 3 ) = 3 / 6\n",
    "\n",
    "Probability of getting 4 = P(X≤ 4 ) = 4 / 6\n",
    "\n",
    "Probability of getting 5 = P(X≤ 5 ) = 5 / 6\n",
    "\n",
    "Probability of getting 6 = P(X≤ 6 ) = 6 / 6 = 1\n",
    "\n",
    "From this, it is noted that the probability value always lies between 0 and 1 and it is non-decreasing and right continuous in nature."
   ]
  },
  {
   "cell_type": "markdown",
   "id": "986c539c-5b55-44e5-891b-257f60df4575",
   "metadata": {},
   "source": [
    "Q3: What are some examples of situations where the normal distribution might be used as a model?\n",
    "Explain how the parameters of the normal distribution relate to the shape of the distribution."
   ]
  },
  {
   "cell_type": "markdown",
   "id": "a92c493c-f19f-4f5f-89da-f31a80fb4e27",
   "metadata": {},
   "source": [
    "ANSWER==\n",
    "Normal distributions are also called Gaussian distributions or bell curves because of their shape.\n",
    "The height of people is an example of normal distribution. Most of the people in a specific population are of average height. The number of people taller and shorter than the average height people is almost equal, and a very small number of people are either extremely tall or extremely short. Several genetic and environmental factors influence height. Therefore, it follows the normal distribution.\n",
    "\n",
    "A fair rolling of dice is also a good example of normal distribution. In an experiment, it has been found that when a dice is rolled 100 times, chances to get ‘1’ are 15-18% and if we roll the dice 1000 times, the chances to get ‘1’ is, again, the same, which averages to 16.7% (1/6). If we roll two dice simultaneously, there are 36 possible combinations. The probability of rolling ‘1’ (with six possible combinations) again averages to around 16.7%, i.e., (6/36). More the number of dice more elaborate will be the normal distribution graph."
   ]
  },
  {
   "cell_type": "markdown",
   "id": "3810755d-17a9-4f08-bd9b-d5c0f8be9826",
   "metadata": {},
   "source": [
    "Q4: Explain the importance of Normal Distribution. Give a few real-life examples of Normal\n",
    "Distribution."
   ]
  },
  {
   "cell_type": "markdown",
   "id": "5042aa01-0b3e-4da2-96ea-9e9ca006f1d3",
   "metadata": {},
   "source": [
    "ANSWER==\n",
    "In a normal distribution, data is symmetrically distributed with no skew. When plotted on a graph, the data follows a bell shape, with most values clustering around a central region and tapering off as they go further away from the center.\n",
    "Normal distributions are also called Gaussian distributions or bell curves because of their shape.\n",
    "\n",
    "Flipping a coin is one of the oldest methods for settling disputes. We all have flipped a coin before a match or game. The perceived fairness in flipping a coin lies in the fact that it has equal chances to come up with either result. The chances of getting a head are 1/2, and the same is for tails. When we add both, it equals one. If we toss coins multiple times, the sum of the probability of getting heads and tails will always remain 1."
   ]
  },
  {
   "cell_type": "markdown",
   "id": "0073d9f0-2356-4187-bd61-d1a99c3d1ebc",
   "metadata": {},
   "source": [
    "Q5: What is Bernaulli Distribution? Give an Example. What is the difference between Bernoulli\n",
    "Distribution and Binomial Distribution?"
   ]
  },
  {
   "cell_type": "markdown",
   "id": "805794f8-0230-43f1-904b-0c11c3d975c0",
   "metadata": {},
   "source": [
    "ANSWER==\n",
    "Bernoulli Distribution is a type of discrete probability distribution where every experiment conducted asks a question that can be answered only in yes or no. In other words, the random variable can be 1 with a probability p or it can be 0 with a probability (1 - p). Such an experiment is called a Bernoulli trial. A pass or fail exam can be modeled by a Bernoulli Distribution.\n",
    "\n",
    "If we have a Binomial Distribution where n = 1 then it becomes a Bernoulli Distribution. "
   ]
  },
  {
   "cell_type": "markdown",
   "id": "0fbe4adb-a9f0-4f33-8d44-a2b80262a485",
   "metadata": {},
   "source": [
    "Q6. Consider a dataset with a mean of 50 and a standard deviation of 10. If we assume that the dataset\n",
    "is normally distributed, what is the probability that a randomly selected observation will be greater\n",
    "than 60? Use the appropriate formula and show your calculations."
   ]
  },
  {
   "cell_type": "code",
   "execution_count": null,
   "id": "0cd27de1-fa1a-44e0-89ee-6b79ef0be18a",
   "metadata": {},
   "outputs": [],
   "source": [
    "z-score = (x – μ) /  σ = (60 – 82) / 8 = 2 / 8 = 0.25"
   ]
  },
  {
   "cell_type": "markdown",
   "id": "e7b74214-3aac-47d9-8762-4050ea7db17a",
   "metadata": {},
   "source": [
    "Q7: Explain uniform Distribution with an example."
   ]
  },
  {
   "cell_type": "markdown",
   "id": "e42b90c0-b9d9-4015-ae87-3781b1d01514",
   "metadata": {},
   "source": [
    "ANSWER==\n",
    "A continuous probability distribution is a Uniform distribution and is related to the events which are equally likely to occur. It is defined by two parameters, x and y, where x = minimum value and y = maximum value. It is generally denoted by u(x, y).\n",
    "\n",
    "f you walked up to a random person on the street, the probability that their birthday falls on a given date would follow a uniform distribution because each day of the year is equally likely to be their birthday.\n",
    "For example, there are 365 days in a year so the probability that their birthday is on January 1st would be 1/365.\n",
    "Similarly, the probability that their birthday is on January 2nd is 1/365.\n",
    "Similarly, the probability that their birthday is on January 3rd is 1/365."
   ]
  },
  {
   "cell_type": "markdown",
   "id": "7a33585b-5547-4009-af03-65f5a9ac6648",
   "metadata": {},
   "source": [
    "Q8: What is the z score? State the importance of the z score."
   ]
  },
  {
   "cell_type": "markdown",
   "id": "7c661a28-dfc5-425f-b680-ac0314258ed1",
   "metadata": {},
   "source": [
    "ANSWER==\n",
    "A z-score measures the distance between a data point and the mean using standard deviations. Z-scores can be positive or negative. The sign tells you whether the observation is above or below the mean. For example, a z-score of +2 indicates that the data point falls two standard deviations above the mean, while a -2 signifies it is two standard deviations below the mean. A z-score of zero equals the mean. Statisticians also refer to z-scores as standard scores, and I’ll use those terms interchangeably."
   ]
  },
  {
   "cell_type": "code",
   "execution_count": null,
   "id": "ea2db238-7271-4ae2-8887-abffa3b5a73c",
   "metadata": {},
   "outputs": [],
   "source": [
    "Q9: What is Central Limit Theorem? State the significance of the Central Limit Theorem."
   ]
  },
  {
   "cell_type": "markdown",
   "id": "384ee2e0-17a5-4953-8425-4c01f21b1815",
   "metadata": {},
   "source": [
    "ANSWER==\n",
    "The Central Limit Theorem (CLT) states that the distribution of a sample mean that approximates the normal distribution, as the sample size becomes larger, assuming that all the samples are similar, and no matter what the shape of the population distribution.\n"
   ]
  },
  {
   "cell_type": "code",
   "execution_count": null,
   "id": "f2bf6436-3a4c-4562-8522-6b9e87c5e0b7",
   "metadata": {},
   "outputs": [],
   "source": [
    "Q10: State the assumptions of the Central Limit Theorem."
   ]
  },
  {
   "cell_type": "raw",
   "id": "dd82de6d-6119-4a6d-9473-52f699ee3a76",
   "metadata": {},
   "source": [
    "ANSWER==\n",
    "In probability theory, the central limit theorem (CLT) establishes that, in many situations, for independent and identically distributed random variables, the sampling distribution of the standardized sample mean tends towards the standard normal distribution even if the original variables themselves are not normally distributed.\n",
    "\n",
    "The theorem is a key concept in probability theory because it implies that probabilistic and statistical methods that work for normal distributions can be applicable to many problems involving other types of distributions."
   ]
  },
  {
   "cell_type": "markdown",
   "id": "059861d5-a310-4fb4-8547-f30d4c68c288",
   "metadata": {},
   "source": []
  }
 ],
 "metadata": {
  "kernelspec": {
   "display_name": "Python 3 (ipykernel)",
   "language": "python",
   "name": "python3"
  },
  "language_info": {
   "codemirror_mode": {
    "name": "ipython",
    "version": 3
   },
   "file_extension": ".py",
   "mimetype": "text/x-python",
   "name": "python",
   "nbconvert_exporter": "python",
   "pygments_lexer": "ipython3",
   "version": "3.10.8"
  }
 },
 "nbformat": 4,
 "nbformat_minor": 5
}
